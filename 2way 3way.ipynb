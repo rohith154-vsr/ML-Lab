{
 "cells": [
  {
   "cell_type": "code",
   "execution_count": 1,
   "id": "b37da802-3dd6-4083-a0b2-74b448b9eddd",
   "metadata": {},
   "outputs": [
    {
     "name": "stdout",
     "output_type": "stream",
     "text": [
      "Defaulting to user installation because normal site-packages is not writeable\n",
      "Collecting pandas\n",
      "  Downloading pandas-2.3.3-cp312-cp312-win_amd64.whl.metadata (19 kB)\n",
      "Collecting numpy>=1.26.0 (from pandas)\n",
      "  Downloading numpy-2.3.4-cp312-cp312-win_amd64.whl.metadata (60 kB)\n",
      "Requirement already satisfied: python-dateutil>=2.8.2 in c:\\users\\rohith vs\\appdata\\roaming\\python\\python312\\site-packages (from pandas) (2.9.0.post0)\n",
      "Collecting pytz>=2020.1 (from pandas)\n",
      "  Downloading pytz-2025.2-py2.py3-none-any.whl.metadata (22 kB)\n",
      "Requirement already satisfied: tzdata>=2022.7 in c:\\users\\rohith vs\\appdata\\roaming\\python\\python312\\site-packages (from pandas) (2025.2)\n",
      "Requirement already satisfied: six>=1.5 in c:\\users\\rohith vs\\appdata\\roaming\\python\\python312\\site-packages (from python-dateutil>=2.8.2->pandas) (1.17.0)\n",
      "Downloading pandas-2.3.3-cp312-cp312-win_amd64.whl (11.0 MB)\n",
      "   ---------------------------------------- 0.0/11.0 MB ? eta -:--:--\n",
      "   - -------------------------------------- 0.5/11.0 MB 5.6 MB/s eta 0:00:02\n",
      "   ----- ---------------------------------- 1.6/11.0 MB 5.2 MB/s eta 0:00:02\n",
      "   ----------- ---------------------------- 3.1/11.0 MB 6.0 MB/s eta 0:00:02\n",
      "   ----------------- ---------------------- 4.7/11.0 MB 6.3 MB/s eta 0:00:01\n",
      "   -------------------- ------------------- 5.8/11.0 MB 6.4 MB/s eta 0:00:01\n",
      "   --------------------------- ------------ 7.6/11.0 MB 6.6 MB/s eta 0:00:01\n",
      "   --------------------------------- ------ 9.2/11.0 MB 7.0 MB/s eta 0:00:01\n",
      "   -------------------------------------- - 10.5/11.0 MB 6.7 MB/s eta 0:00:01\n",
      "   ---------------------------------------- 11.0/11.0 MB 6.7 MB/s eta 0:00:00\n",
      "Downloading numpy-2.3.4-cp312-cp312-win_amd64.whl (12.8 MB)\n",
      "   ---------------------------------------- 0.0/12.8 MB ? eta -:--:--\n",
      "   ----- ---------------------------------- 1.8/12.8 MB 9.1 MB/s eta 0:00:02\n",
      "   ---------- ----------------------------- 3.4/12.8 MB 8.4 MB/s eta 0:00:02\n",
      "   --------------- ------------------------ 5.0/12.8 MB 8.4 MB/s eta 0:00:01\n",
      "   --------------------- ------------------ 6.8/12.8 MB 8.4 MB/s eta 0:00:01\n",
      "   --------------------------- ------------ 8.7/12.8 MB 8.4 MB/s eta 0:00:01\n",
      "   --------------------------------- ------ 10.7/12.8 MB 8.7 MB/s eta 0:00:01\n",
      "   ---------------------------------------  12.6/12.8 MB 8.9 MB/s eta 0:00:01\n",
      "   ---------------------------------------- 12.8/12.8 MB 8.6 MB/s eta 0:00:00\n",
      "Downloading pytz-2025.2-py2.py3-none-any.whl (509 kB)\n",
      "Installing collected packages: pytz, numpy, pandas\n",
      "Successfully installed numpy-2.3.4 pandas-2.3.3 pytz-2025.2\n"
     ]
    },
    {
     "name": "stderr",
     "output_type": "stream",
     "text": [
      "\n",
      "[notice] A new release of pip is available: 24.2 -> 25.3\n",
      "[notice] To update, run: python.exe -m pip install --upgrade pip\n"
     ]
    }
   ],
   "source": [
    "!pip install pandas\n"
   ]
  },
  {
   "cell_type": "code",
   "execution_count": 2,
   "id": "e6e0d8ba-8b7a-449d-a348-6dc290139bfd",
   "metadata": {},
   "outputs": [
    {
     "name": "stdout",
     "output_type": "stream",
     "text": [
      "Pandas version: 2.3.3\n"
     ]
    }
   ],
   "source": [
    "import pandas as pd\n",
    "print(\"Pandas version:\", pd.__version__)\n"
   ]
  },
  {
   "cell_type": "code",
   "execution_count": 3,
   "id": "aa07d8f3-abbd-4383-bcc8-6b18be468095",
   "metadata": {},
   "outputs": [
    {
     "name": "stdout",
     "output_type": "stream",
     "text": [
      "Pandas version: 2.3.3\n"
     ]
    }
   ],
   "source": [
    "import pandas as pd\n",
    "print(\"Pandas version:\", pd.__version__)"
   ]
  },
  {
   "cell_type": "code",
   "execution_count": 12,
   "id": "d42dc7d3-801a-4517-9002-f1dc60503459",
   "metadata": {},
   "outputs": [
    {
     "name": "stdout",
     "output_type": "stream",
     "text": [
      "✅ Converted and saved as heart.csv\n"
     ]
    },
    {
     "data": {
      "text/html": [
       "<div>\n",
       "<style scoped>\n",
       "    .dataframe tbody tr th:only-of-type {\n",
       "        vertical-align: middle;\n",
       "    }\n",
       "\n",
       "    .dataframe tbody tr th {\n",
       "        vertical-align: top;\n",
       "    }\n",
       "\n",
       "    .dataframe thead th {\n",
       "        text-align: right;\n",
       "    }\n",
       "</style>\n",
       "<table border=\"1\" class=\"dataframe\">\n",
       "  <thead>\n",
       "    <tr style=\"text-align: right;\">\n",
       "      <th></th>\n",
       "      <th>age</th>\n",
       "      <th>sex</th>\n",
       "      <th>cp</th>\n",
       "      <th>trestbps</th>\n",
       "      <th>chol</th>\n",
       "      <th>fbs</th>\n",
       "      <th>restecg</th>\n",
       "      <th>thalach</th>\n",
       "      <th>exang</th>\n",
       "      <th>oldpeak</th>\n",
       "      <th>slope</th>\n",
       "      <th>ca</th>\n",
       "      <th>thal</th>\n",
       "      <th>target</th>\n",
       "    </tr>\n",
       "  </thead>\n",
       "  <tbody>\n",
       "    <tr>\n",
       "      <th>0</th>\n",
       "      <td>63.0</td>\n",
       "      <td>1.0</td>\n",
       "      <td>1.0</td>\n",
       "      <td>145.0</td>\n",
       "      <td>233.0</td>\n",
       "      <td>1.0</td>\n",
       "      <td>2.0</td>\n",
       "      <td>150.0</td>\n",
       "      <td>0.0</td>\n",
       "      <td>2.3</td>\n",
       "      <td>3.0</td>\n",
       "      <td>0.0</td>\n",
       "      <td>6.0</td>\n",
       "      <td>0.0</td>\n",
       "    </tr>\n",
       "    <tr>\n",
       "      <th>1</th>\n",
       "      <td>67.0</td>\n",
       "      <td>1.0</td>\n",
       "      <td>4.0</td>\n",
       "      <td>160.0</td>\n",
       "      <td>286.0</td>\n",
       "      <td>0.0</td>\n",
       "      <td>2.0</td>\n",
       "      <td>108.0</td>\n",
       "      <td>1.0</td>\n",
       "      <td>1.5</td>\n",
       "      <td>2.0</td>\n",
       "      <td>3.0</td>\n",
       "      <td>3.0</td>\n",
       "      <td>2.0</td>\n",
       "    </tr>\n",
       "    <tr>\n",
       "      <th>2</th>\n",
       "      <td>67.0</td>\n",
       "      <td>1.0</td>\n",
       "      <td>4.0</td>\n",
       "      <td>120.0</td>\n",
       "      <td>229.0</td>\n",
       "      <td>0.0</td>\n",
       "      <td>2.0</td>\n",
       "      <td>129.0</td>\n",
       "      <td>1.0</td>\n",
       "      <td>2.6</td>\n",
       "      <td>2.0</td>\n",
       "      <td>2.0</td>\n",
       "      <td>7.0</td>\n",
       "      <td>1.0</td>\n",
       "    </tr>\n",
       "    <tr>\n",
       "      <th>3</th>\n",
       "      <td>37.0</td>\n",
       "      <td>1.0</td>\n",
       "      <td>3.0</td>\n",
       "      <td>130.0</td>\n",
       "      <td>250.0</td>\n",
       "      <td>0.0</td>\n",
       "      <td>0.0</td>\n",
       "      <td>187.0</td>\n",
       "      <td>0.0</td>\n",
       "      <td>3.5</td>\n",
       "      <td>3.0</td>\n",
       "      <td>0.0</td>\n",
       "      <td>3.0</td>\n",
       "      <td>0.0</td>\n",
       "    </tr>\n",
       "    <tr>\n",
       "      <th>4</th>\n",
       "      <td>41.0</td>\n",
       "      <td>0.0</td>\n",
       "      <td>2.0</td>\n",
       "      <td>130.0</td>\n",
       "      <td>204.0</td>\n",
       "      <td>0.0</td>\n",
       "      <td>2.0</td>\n",
       "      <td>172.0</td>\n",
       "      <td>0.0</td>\n",
       "      <td>1.4</td>\n",
       "      <td>1.0</td>\n",
       "      <td>0.0</td>\n",
       "      <td>3.0</td>\n",
       "      <td>0.0</td>\n",
       "    </tr>\n",
       "  </tbody>\n",
       "</table>\n",
       "</div>"
      ],
      "text/plain": [
       "    age  sex   cp  trestbps   chol  fbs  restecg  thalach  exang  oldpeak  \\\n",
       "0  63.0  1.0  1.0     145.0  233.0  1.0      2.0    150.0    0.0      2.3   \n",
       "1  67.0  1.0  4.0     160.0  286.0  0.0      2.0    108.0    1.0      1.5   \n",
       "2  67.0  1.0  4.0     120.0  229.0  0.0      2.0    129.0    1.0      2.6   \n",
       "3  37.0  1.0  3.0     130.0  250.0  0.0      0.0    187.0    0.0      3.5   \n",
       "4  41.0  0.0  2.0     130.0  204.0  0.0      2.0    172.0    0.0      1.4   \n",
       "\n",
       "   slope   ca  thal  target  \n",
       "0    3.0  0.0   6.0     0.0  \n",
       "1    2.0  3.0   3.0     2.0  \n",
       "2    2.0  2.0   7.0     1.0  \n",
       "3    3.0  0.0   3.0     0.0  \n",
       "4    1.0  0.0   3.0     0.0  "
      ]
     },
     "execution_count": 12,
     "metadata": {},
     "output_type": "execute_result"
    }
   ],
   "source": [
    "import pandas as pd\n",
    "\n",
    "df = pd.read_csv('processed.cleveland.data', header=None, names=[\n",
    "    'age', 'sex', 'cp', 'trestbps', 'chol', 'fbs', 'restecg',\n",
    "    'thalach', 'exang', 'oldpeak', 'slope', 'ca', 'thal', 'target'\n",
    "])\n",
    "\n",
    "df.replace('?', pd.NA, inplace=True)\n",
    "\n",
    "df.dropna(inplace=True)\n",
    "\n",
    "df = df.astype(float)\n",
    "\n",
    "df.to_csv('heart.csv', index=False)\n",
    "\n",
    "print(\"✅ Converted and saved as heart.csv\")\n",
    "df.head()"
   ]
  },
  {
   "cell_type": "code",
   "execution_count": 5,
   "id": "755f573d-bcff-4630-b914-4cff5edd7a36",
   "metadata": {},
   "outputs": [
    {
     "name": "stdout",
     "output_type": "stream",
     "text": [
      "(297, 14)\n"
     ]
    }
   ],
   "source": [
    "print(df.shape)\n"
   ]
  },
  {
   "cell_type": "code",
   "execution_count": 7,
   "id": "ef07935f-3f94-4483-aa17-7295b4d94109",
   "metadata": {},
   "outputs": [
    {
     "name": "stdout",
     "output_type": "stream",
     "text": [
      "Defaulting to user installation because normal site-packages is not writeable\n",
      "Collecting matplotlib\n",
      "  Downloading matplotlib-3.10.7-cp312-cp312-win_amd64.whl.metadata (11 kB)\n",
      "Collecting contourpy>=1.0.1 (from matplotlib)\n",
      "  Downloading contourpy-1.3.3-cp312-cp312-win_amd64.whl.metadata (5.5 kB)\n",
      "Collecting cycler>=0.10 (from matplotlib)\n",
      "  Downloading cycler-0.12.1-py3-none-any.whl.metadata (3.8 kB)\n",
      "Collecting fonttools>=4.22.0 (from matplotlib)\n",
      "  Downloading fonttools-4.60.1-cp312-cp312-win_amd64.whl.metadata (114 kB)\n",
      "Collecting kiwisolver>=1.3.1 (from matplotlib)\n",
      "  Downloading kiwisolver-1.4.9-cp312-cp312-win_amd64.whl.metadata (6.4 kB)\n",
      "Requirement already satisfied: numpy>=1.23 in c:\\users\\rohith vs\\appdata\\roaming\\python\\python312\\site-packages (from matplotlib) (2.3.4)\n",
      "Requirement already satisfied: packaging>=20.0 in c:\\users\\rohith vs\\appdata\\roaming\\python\\python312\\site-packages (from matplotlib) (25.0)\n",
      "Collecting pillow>=8 (from matplotlib)\n",
      "  Downloading pillow-12.0.0-cp312-cp312-win_amd64.whl.metadata (9.0 kB)\n",
      "Collecting pyparsing>=3 (from matplotlib)\n",
      "  Downloading pyparsing-3.2.5-py3-none-any.whl.metadata (5.0 kB)\n",
      "Requirement already satisfied: python-dateutil>=2.7 in c:\\users\\rohith vs\\appdata\\roaming\\python\\python312\\site-packages (from matplotlib) (2.9.0.post0)\n",
      "Requirement already satisfied: six>=1.5 in c:\\users\\rohith vs\\appdata\\roaming\\python\\python312\\site-packages (from python-dateutil>=2.7->matplotlib) (1.17.0)\n",
      "Downloading matplotlib-3.10.7-cp312-cp312-win_amd64.whl (8.1 MB)\n",
      "   ---------------------------------------- 0.0/8.1 MB ? eta -:--:--\n",
      "   --- ------------------------------------ 0.8/8.1 MB 5.6 MB/s eta 0:00:02\n",
      "   ---------- ----------------------------- 2.1/8.1 MB 5.9 MB/s eta 0:00:02\n",
      "   --------------- ------------------------ 3.1/8.1 MB 5.4 MB/s eta 0:00:01\n",
      "   -------------------- ------------------- 4.2/8.1 MB 5.3 MB/s eta 0:00:01\n",
      "   ---------------------------- ----------- 5.8/8.1 MB 5.8 MB/s eta 0:00:01\n",
      "   -------------------------------- ------- 6.6/8.1 MB 5.8 MB/s eta 0:00:01\n",
      "   -------------------------------------- - 7.9/8.1 MB 5.7 MB/s eta 0:00:01\n",
      "   ---------------------------------------- 8.1/8.1 MB 5.5 MB/s eta 0:00:00\n",
      "Downloading contourpy-1.3.3-cp312-cp312-win_amd64.whl (226 kB)\n",
      "Downloading cycler-0.12.1-py3-none-any.whl (8.3 kB)\n",
      "Downloading fonttools-4.60.1-cp312-cp312-win_amd64.whl (2.3 MB)\n",
      "   ---------------------------------------- 0.0/2.3 MB ? eta -:--:--\n",
      "   -------------------------------- ------- 1.8/2.3 MB 9.1 MB/s eta 0:00:01\n",
      "   ---------------------------------------- 2.3/2.3 MB 7.1 MB/s eta 0:00:00\n",
      "Downloading kiwisolver-1.4.9-cp312-cp312-win_amd64.whl (73 kB)\n",
      "Downloading pillow-12.0.0-cp312-cp312-win_amd64.whl (7.0 MB)\n",
      "   ---------------------------------------- 0.0/7.0 MB ? eta -:--:--\n",
      "   ---------- ----------------------------- 1.8/7.0 MB 9.1 MB/s eta 0:00:01\n",
      "   ----------------- ---------------------- 3.1/7.0 MB 8.4 MB/s eta 0:00:01\n",
      "   -------------------------- ------------- 4.7/7.0 MB 7.7 MB/s eta 0:00:01\n",
      "   -------------------------------- ------- 5.8/7.0 MB 7.2 MB/s eta 0:00:01\n",
      "   -------------------------------------- - 6.8/7.0 MB 6.9 MB/s eta 0:00:01\n",
      "   ---------------------------------------- 7.0/7.0 MB 6.4 MB/s eta 0:00:00\n",
      "Downloading pyparsing-3.2.5-py3-none-any.whl (113 kB)\n",
      "Installing collected packages: pyparsing, pillow, kiwisolver, fonttools, cycler, contourpy, matplotlib\n",
      "Successfully installed contourpy-1.3.3 cycler-0.12.1 fonttools-4.60.1 kiwisolver-1.4.9 matplotlib-3.10.7 pillow-12.0.0 pyparsing-3.2.5\n"
     ]
    },
    {
     "name": "stderr",
     "output_type": "stream",
     "text": [
      "\n",
      "[notice] A new release of pip is available: 24.2 -> 25.3\n",
      "[notice] To update, run: python.exe -m pip install --upgrade pip\n"
     ]
    }
   ],
   "source": [
    "!pip install matplotlib\n"
   ]
  },
  {
   "cell_type": "code",
   "execution_count": 8,
   "id": "df4be10d-f113-4f3f-bd45-b1b80031ad2f",
   "metadata": {},
   "outputs": [
    {
     "name": "stdout",
     "output_type": "stream",
     "text": [
      "Defaulting to user installation because normal site-packages is not writeable\n",
      "Collecting seaborn\n",
      "  Downloading seaborn-0.13.2-py3-none-any.whl.metadata (5.4 kB)\n",
      "Requirement already satisfied: numpy!=1.24.0,>=1.20 in c:\\users\\rohith vs\\appdata\\roaming\\python\\python312\\site-packages (from seaborn) (2.3.4)\n",
      "Requirement already satisfied: pandas>=1.2 in c:\\users\\rohith vs\\appdata\\roaming\\python\\python312\\site-packages (from seaborn) (2.3.3)\n",
      "Requirement already satisfied: matplotlib!=3.6.1,>=3.4 in c:\\users\\rohith vs\\appdata\\roaming\\python\\python312\\site-packages (from seaborn) (3.10.7)\n",
      "Requirement already satisfied: contourpy>=1.0.1 in c:\\users\\rohith vs\\appdata\\roaming\\python\\python312\\site-packages (from matplotlib!=3.6.1,>=3.4->seaborn) (1.3.3)\n",
      "Requirement already satisfied: cycler>=0.10 in c:\\users\\rohith vs\\appdata\\roaming\\python\\python312\\site-packages (from matplotlib!=3.6.1,>=3.4->seaborn) (0.12.1)\n",
      "Requirement already satisfied: fonttools>=4.22.0 in c:\\users\\rohith vs\\appdata\\roaming\\python\\python312\\site-packages (from matplotlib!=3.6.1,>=3.4->seaborn) (4.60.1)\n",
      "Requirement already satisfied: kiwisolver>=1.3.1 in c:\\users\\rohith vs\\appdata\\roaming\\python\\python312\\site-packages (from matplotlib!=3.6.1,>=3.4->seaborn) (1.4.9)\n",
      "Requirement already satisfied: packaging>=20.0 in c:\\users\\rohith vs\\appdata\\roaming\\python\\python312\\site-packages (from matplotlib!=3.6.1,>=3.4->seaborn) (25.0)\n",
      "Requirement already satisfied: pillow>=8 in c:\\users\\rohith vs\\appdata\\roaming\\python\\python312\\site-packages (from matplotlib!=3.6.1,>=3.4->seaborn) (12.0.0)\n",
      "Requirement already satisfied: pyparsing>=3 in c:\\users\\rohith vs\\appdata\\roaming\\python\\python312\\site-packages (from matplotlib!=3.6.1,>=3.4->seaborn) (3.2.5)\n",
      "Requirement already satisfied: python-dateutil>=2.7 in c:\\users\\rohith vs\\appdata\\roaming\\python\\python312\\site-packages (from matplotlib!=3.6.1,>=3.4->seaborn) (2.9.0.post0)\n",
      "Requirement already satisfied: pytz>=2020.1 in c:\\users\\rohith vs\\appdata\\roaming\\python\\python312\\site-packages (from pandas>=1.2->seaborn) (2025.2)\n",
      "Requirement already satisfied: tzdata>=2022.7 in c:\\users\\rohith vs\\appdata\\roaming\\python\\python312\\site-packages (from pandas>=1.2->seaborn) (2025.2)\n",
      "Requirement already satisfied: six>=1.5 in c:\\users\\rohith vs\\appdata\\roaming\\python\\python312\\site-packages (from python-dateutil>=2.7->matplotlib!=3.6.1,>=3.4->seaborn) (1.17.0)\n",
      "Downloading seaborn-0.13.2-py3-none-any.whl (294 kB)\n",
      "Installing collected packages: seaborn\n",
      "Successfully installed seaborn-0.13.2\n"
     ]
    },
    {
     "name": "stderr",
     "output_type": "stream",
     "text": [
      "\n",
      "[notice] A new release of pip is available: 24.2 -> 25.3\n",
      "[notice] To update, run: python.exe -m pip install --upgrade pip\n"
     ]
    }
   ],
   "source": [
    "!pip install seaborn\n"
   ]
  },
  {
   "cell_type": "code",
   "execution_count": 10,
   "id": "3f57638a-8188-4fa1-802c-905107d9daa5",
   "metadata": {},
   "outputs": [
    {
     "name": "stdout",
     "output_type": "stream",
     "text": [
      "Defaulting to user installation because normal site-packages is not writeable\n",
      "Collecting scikit-learn\n",
      "  Downloading scikit_learn-1.7.2-cp312-cp312-win_amd64.whl.metadata (11 kB)\n",
      "Requirement already satisfied: numpy>=1.22.0 in c:\\users\\rohith vs\\appdata\\roaming\\python\\python312\\site-packages (from scikit-learn) (2.3.4)\n",
      "Collecting scipy>=1.8.0 (from scikit-learn)\n",
      "  Downloading scipy-1.16.3-cp312-cp312-win_amd64.whl.metadata (60 kB)\n",
      "Collecting joblib>=1.2.0 (from scikit-learn)\n",
      "  Downloading joblib-1.5.2-py3-none-any.whl.metadata (5.6 kB)\n",
      "Collecting threadpoolctl>=3.1.0 (from scikit-learn)\n",
      "  Downloading threadpoolctl-3.6.0-py3-none-any.whl.metadata (13 kB)\n",
      "Downloading scikit_learn-1.7.2-cp312-cp312-win_amd64.whl (8.7 MB)\n",
      "   ---------------------------------------- 0.0/8.7 MB ? eta -:--:--\n",
      "   ---- ----------------------------------- 1.0/8.7 MB 7.2 MB/s eta 0:00:02\n",
      "   ---------- ----------------------------- 2.4/8.7 MB 6.4 MB/s eta 0:00:01\n",
      "   --------------- ------------------------ 3.4/8.7 MB 5.9 MB/s eta 0:00:01\n",
      "   --------------------- ------------------ 4.7/8.7 MB 5.9 MB/s eta 0:00:01\n",
      "   --------------------------- ------------ 6.0/8.7 MB 6.0 MB/s eta 0:00:01\n",
      "   ---------------------------------- ----- 7.6/8.7 MB 6.2 MB/s eta 0:00:01\n",
      "   -------------------------------------- - 8.4/8.7 MB 6.0 MB/s eta 0:00:01\n",
      "   ---------------------------------------- 8.7/8.7 MB 5.6 MB/s eta 0:00:00\n",
      "Downloading joblib-1.5.2-py3-none-any.whl (308 kB)\n",
      "Downloading scipy-1.16.3-cp312-cp312-win_amd64.whl (38.6 MB)\n",
      "   ---------------------------------------- 0.0/38.6 MB ? eta -:--:--\n",
      "   - -------------------------------------- 1.8/38.6 MB 10.1 MB/s eta 0:00:04\n",
      "   --- ------------------------------------ 3.7/38.6 MB 8.7 MB/s eta 0:00:05\n",
      "   ------ --------------------------------- 6.0/38.6 MB 9.5 MB/s eta 0:00:04\n",
      "   -------- ------------------------------- 7.9/38.6 MB 9.2 MB/s eta 0:00:04\n",
      "   --------- ------------------------------ 9.4/38.6 MB 8.8 MB/s eta 0:00:04\n",
      "   ----------- ---------------------------- 11.0/38.6 MB 8.6 MB/s eta 0:00:04\n",
      "   ------------- -------------------------- 12.6/38.6 MB 8.4 MB/s eta 0:00:04\n",
      "   -------------- ------------------------- 14.4/38.6 MB 8.4 MB/s eta 0:00:03\n",
      "   ----------------- ---------------------- 16.5/38.6 MB 8.6 MB/s eta 0:00:03\n",
      "   ------------------ --------------------- 17.6/38.6 MB 8.3 MB/s eta 0:00:03\n",
      "   -------------------- ------------------- 19.7/38.6 MB 8.4 MB/s eta 0:00:03\n",
      "   ---------------------- ----------------- 21.8/38.6 MB 8.6 MB/s eta 0:00:02\n",
      "   ------------------------ --------------- 23.9/38.6 MB 8.7 MB/s eta 0:00:02\n",
      "   -------------------------- ------------- 26.0/38.6 MB 8.8 MB/s eta 0:00:02\n",
      "   ---------------------------- ----------- 27.8/38.6 MB 8.8 MB/s eta 0:00:02\n",
      "   ------------------------------ --------- 29.1/38.6 MB 8.7 MB/s eta 0:00:02\n",
      "   ------------------------------- -------- 30.7/38.6 MB 8.6 MB/s eta 0:00:01\n",
      "   --------------------------------- ------ 32.5/38.6 MB 8.5 MB/s eta 0:00:01\n",
      "   ----------------------------------- ---- 34.3/38.6 MB 8.5 MB/s eta 0:00:01\n",
      "   ------------------------------------- -- 36.2/38.6 MB 8.5 MB/s eta 0:00:01\n",
      "   -------------------------------------- - 37.5/38.6 MB 8.4 MB/s eta 0:00:01\n",
      "   ---------------------------------------  38.5/38.6 MB 8.4 MB/s eta 0:00:01\n",
      "   ---------------------------------------- 38.6/38.6 MB 8.0 MB/s eta 0:00:00\n",
      "Downloading threadpoolctl-3.6.0-py3-none-any.whl (18 kB)\n",
      "Installing collected packages: threadpoolctl, scipy, joblib, scikit-learn\n",
      "Successfully installed joblib-1.5.2 scikit-learn-1.7.2 scipy-1.16.3 threadpoolctl-3.6.0\n"
     ]
    },
    {
     "name": "stderr",
     "output_type": "stream",
     "text": [
      "\n",
      "[notice] A new release of pip is available: 24.2 -> 25.3\n",
      "[notice] To update, run: python.exe -m pip install --upgrade pip\n"
     ]
    }
   ],
   "source": [
    "!pip install scikit-learn\n"
   ]
  },
  {
   "cell_type": "code",
   "execution_count": 11,
   "id": "cabaa3c3-7fa0-4a50-a7a4-5517d6e9ba12",
   "metadata": {},
   "outputs": [
    {
     "name": "stdout",
     "output_type": "stream",
     "text": [
      "✅ Dataset Loaded Successfully!\n",
      "    age  sex   cp  trestbps   chol  fbs  restecg  thalach  exang  oldpeak  \\\n",
      "0  63.0  1.0  1.0     145.0  233.0  1.0      2.0    150.0    0.0      2.3   \n",
      "1  67.0  1.0  4.0     160.0  286.0  0.0      2.0    108.0    1.0      1.5   \n",
      "2  67.0  1.0  4.0     120.0  229.0  0.0      2.0    129.0    1.0      2.6   \n",
      "3  37.0  1.0  3.0     130.0  250.0  0.0      0.0    187.0    0.0      3.5   \n",
      "4  41.0  0.0  2.0     130.0  204.0  0.0      2.0    172.0    0.0      1.4   \n",
      "\n",
      "   slope   ca  thal  target  \n",
      "0    3.0  0.0   6.0     0.0  \n",
      "1    2.0  3.0   3.0     2.0  \n",
      "2    2.0  2.0   7.0     1.0  \n",
      "3    3.0  0.0   3.0     0.0  \n",
      "4    1.0  0.0   3.0     0.0  \n",
      "\n",
      "Dataset Info:\n",
      "<class 'pandas.core.frame.DataFrame'>\n",
      "RangeIndex: 297 entries, 0 to 296\n",
      "Data columns (total 14 columns):\n",
      " #   Column    Non-Null Count  Dtype  \n",
      "---  ------    --------------  -----  \n",
      " 0   age       297 non-null    float64\n",
      " 1   sex       297 non-null    float64\n",
      " 2   cp        297 non-null    float64\n",
      " 3   trestbps  297 non-null    float64\n",
      " 4   chol      297 non-null    float64\n",
      " 5   fbs       297 non-null    float64\n",
      " 6   restecg   297 non-null    float64\n",
      " 7   thalach   297 non-null    float64\n",
      " 8   exang     297 non-null    float64\n",
      " 9   oldpeak   297 non-null    float64\n",
      " 10  slope     297 non-null    float64\n",
      " 11  ca        297 non-null    float64\n",
      " 12  thal      297 non-null    float64\n",
      " 13  target    297 non-null    float64\n",
      "dtypes: float64(14)\n",
      "memory usage: 32.6 KB\n",
      "None\n",
      "\n",
      "Missing Values:\n",
      " age         0\n",
      "sex         0\n",
      "cp          0\n",
      "trestbps    0\n",
      "chol        0\n",
      "fbs         0\n",
      "restecg     0\n",
      "thalach     0\n",
      "exang       0\n",
      "oldpeak     0\n",
      "slope       0\n",
      "ca          0\n",
      "thal        0\n",
      "target      0\n",
      "dtype: int64\n"
     ]
    },
    {
     "name": "stderr",
     "output_type": "stream",
     "text": [
      "C:\\Users\\Rohith VS\\AppData\\Local\\Temp\\ipykernel_16408\\271641046.py:27: FutureWarning: \n",
      "\n",
      "Passing `palette` without assigning `hue` is deprecated and will be removed in v0.14.0. Assign the `x` variable to `hue` and set `legend=False` for the same effect.\n",
      "\n",
      "  sns.countplot(x='target', data=df, palette='coolwarm')\n"
     ]
    },
    {
     "data": {
      "image/png": "[encoded data removed]",
      "text/plain": [
       "<Figure size 800x500 with 1 Axes>"
      ]
     },
     "metadata": {},
     "output_type": "display_data"
    },
    {
     "name": "stdout",
     "output_type": "stream",
     "text": [
      "\n",
      "2-Way Split Sizes:\n",
      "Training: (237, 13), Testing: (60, 13)\n"
     ]
    },
    {
     "name": "stderr",
     "output_type": "stream",
     "text": [
      "C:\\Users\\Rohith VS\\AppData\\Roaming\\Python\\Python312\\site-packages\\sklearn\\linear_model\\_logistic.py:473: ConvergenceWarning: lbfgs failed to converge after 500 iteration(s) (status=1):\n",
      "STOP: TOTAL NO. OF ITERATIONS REACHED LIMIT\n",
      "\n",
      "Increase the number of iterations to improve the convergence (max_iter=500).\n",
      "You might also want to scale the data as shown in:\n",
      "    https://scikit-learn.org/stable/modules/preprocessing.html\n",
      "Please also refer to the documentation for alternative solver options:\n",
      "    https://scikit-learn.org/stable/modules/linear_model.html#logistic-regression\n",
      "  n_iter_i = _check_optimize_result(\n"
     ]
    },
    {
     "name": "stdout",
     "output_type": "stream",
     "text": [
      "\n",
      "✅ 2-Way Split Test Accuracy: 0.583\n",
      "\n",
      "3-Way Split Sizes:\n",
      "Training: (165, 13), Validation: (72, 13), Testing: (60, 13)\n"
     ]
    },
    {
     "name": "stderr",
     "output_type": "stream",
     "text": [
      "C:\\Users\\Rohith VS\\AppData\\Roaming\\Python\\Python312\\site-packages\\sklearn\\linear_model\\_logistic.py:473: ConvergenceWarning: lbfgs failed to converge after 500 iteration(s) (status=1):\n",
      "STOP: TOTAL NO. OF ITERATIONS REACHED LIMIT\n",
      "\n",
      "Increase the number of iterations to improve the convergence (max_iter=500).\n",
      "You might also want to scale the data as shown in:\n",
      "    https://scikit-learn.org/stable/modules/preprocessing.html\n",
      "Please also refer to the documentation for alternative solver options:\n",
      "    https://scikit-learn.org/stable/modules/linear_model.html#logistic-regression\n",
      "  n_iter_i = _check_optimize_result(\n"
     ]
    },
    {
     "name": "stdout",
     "output_type": "stream",
     "text": [
      "\n",
      "✅ 3-Way Split Validation Accuracy: 0.542\n",
      "✅ 3-Way Split Test Accuracy: 0.633\n"
     ]
    },
    {
     "data": {
      "image/png": "[encoded data removed]",
      "text/plain": [
       "<Figure size 1200x500 with 4 Axes>"
      ]
     },
     "metadata": {},
     "output_type": "display_data"
    },
    {
     "name": "stdout",
     "output_type": "stream",
     "text": [
      "\n",
      "--------------------\n",
      "FINAL ACCURACY COMPARISON\n",
      "--------------------\n",
      "2-Way Split Test Accuracy: 0.583\n",
      "3-Way Split Validation Accuracy: 0.542\n",
      "3-Way Split Test Accuracy: 0.633\n"
     ]
    }
   ],
   "source": [
    "# ------------------------------------------\n",
    "# 📘 HEART DISEASE PREDICTION PROJECT\n",
    "# 2-WAY vs 3-WAY SPLITTING\n",
    "# ------------------------------------------\n",
    "\n",
    "# Step 1: Import Libraries\n",
    "import numpy as np\n",
    "import pandas as pd\n",
    "import matplotlib.pyplot as plt\n",
    "import seaborn as sns\n",
    "from sklearn.model_selection import train_test_split\n",
    "from sklearn.linear_model import LogisticRegression\n",
    "from sklearn.metrics import accuracy_score, confusion_matrix, classification_report\n",
    "\n",
    "# Step 2: Load Dataset\n",
    "df = pd.read_csv('heart.csv')  # Make sure 'heart.csv' is in the same folder\n",
    "print(\"✅ Dataset Loaded Successfully!\")\n",
    "print(df.head())\n",
    "\n",
    "# Step 3: Check for Null Values and Basic Info\n",
    "print(\"\\nDataset Info:\")\n",
    "print(df.info())\n",
    "print(\"\\nMissing Values:\\n\", df.isnull().sum())\n",
    "\n",
    "# Step 4: Basic Visualization\n",
    "plt.figure(figsize=(8,5))\n",
    "sns.countplot(x='target', data=df, palette='coolwarm')\n",
    "plt.title('Heart Disease Presence (1 = Disease, 0 = No Disease)')\n",
    "plt.show()\n",
    "\n",
    "# Step 5: Feature and Target Split\n",
    "X = df.drop('target', axis=1)\n",
    "y = df['target']\n",
    "\n",
    "# -------------------------------------------------\n",
    "# 2️⃣ WAY SPLITTING: TRAIN / TEST\n",
    "# -------------------------------------------------\n",
    "X_train_2, X_test_2, y_train_2, y_test_2 = train_test_split(\n",
    "    X, y, test_size=0.2, random_state=42, stratify=y\n",
    ")\n",
    "\n",
    "print(\"\\n2-Way Split Sizes:\")\n",
    "print(f\"Training: {X_train_2.shape}, Testing: {X_test_2.shape}\")\n",
    "\n",
    "# Train model (2-way)\n",
    "model_2 = LogisticRegression(max_iter=500)\n",
    "model_2.fit(X_train_2, y_train_2)\n",
    "\n",
    "# Evaluate\n",
    "y_pred_2 = model_2.predict(X_test_2)\n",
    "acc_2 = accuracy_score(y_test_2, y_pred_2)\n",
    "print(\"\\n✅ 2-Way Split Test Accuracy:\", round(acc_2, 3))\n",
    "\n",
    "# -------------------------------------------------\n",
    "# 3️⃣ WAY SPLITTING: TRAIN / VALIDATION / TEST\n",
    "# -------------------------------------------------\n",
    "\n",
    "# First split into train+val and test\n",
    "X_temp, X_test_3, y_temp, y_test_3 = train_test_split(\n",
    "    X, y, test_size=0.2, random_state=42, stratify=y\n",
    ")\n",
    "\n",
    "# Now split train+val into 70% train and 30% validation\n",
    "X_train_3, X_val_3, y_train_3, y_val_3 = train_test_split(\n",
    "    X_temp, y_temp, test_size=0.3, random_state=42, stratify=y_temp\n",
    ")\n",
    "\n",
    "print(\"\\n3-Way Split Sizes:\")\n",
    "print(f\"Training: {X_train_3.shape}, Validation: {X_val_3.shape}, Testing: {X_test_3.shape}\")\n",
    "\n",
    "# Train model (3-way)\n",
    "model_3 = LogisticRegression(max_iter=500)\n",
    "model_3.fit(X_train_3, y_train_3)\n",
    "\n",
    "# Evaluate on validation\n",
    "y_pred_val = model_3.predict(X_val_3)\n",
    "val_acc = accuracy_score(y_val_3, y_pred_val)\n",
    "\n",
    "# Final test accuracy\n",
    "y_pred_test = model_3.predict(X_test_3)\n",
    "test_acc = accuracy_score(y_test_3, y_pred_test)\n",
    "\n",
    "print(\"\\n✅ 3-Way Split Validation Accuracy:\", round(val_acc, 3))\n",
    "print(\"✅ 3-Way Split Test Accuracy:\", round(test_acc, 3))\n",
    "\n",
    "# -------------------------------------------------\n",
    "# 🔍 CONFUSION MATRIX COMPARISON\n",
    "# -------------------------------------------------\n",
    "fig, axes = plt.subplots(1, 2, figsize=(12,5))\n",
    "\n",
    "sns.heatmap(confusion_matrix(y_test_2, y_pred_2), annot=True, fmt='d', cmap='Blues', ax=axes[0])\n",
    "axes[0].set_title(\"2-Way Split Confusion Matrix\")\n",
    "axes[0].set_xlabel(\"Predicted\")\n",
    "axes[0].set_ylabel(\"Actual\")\n",
    "\n",
    "sns.heatmap(confusion_matrix(y_test_3, y_pred_test), annot=True, fmt='d', cmap='Greens', ax=axes[1])\n",
    "axes[1].set_title(\"3-Way Split Confusion Matrix\")\n",
    "axes[1].set_xlabel(\"Predicted\")\n",
    "axes[1].set_ylabel(\"Actual\")\n",
    "\n",
    "plt.tight_layout()\n",
    "plt.show()\n",
    "\n",
    "# -------------------------------------------------\n",
    "# 📊 FINAL COMPARISON\n",
    "# -------------------------------------------------\n",
    "print(\"\\n--------------------\")\n",
    "print(\"FINAL ACCURACY COMPARISON\")\n",
    "print(\"--------------------\")\n",
    "print(f\"2-Way Split Test Accuracy: {acc_2:.3f}\")\n",
    "print(f\"3-Way Split Validation Accuracy: {val_acc:.3f}\")\n",
    "print(f\"3-Way Split Test Accuracy: {test_acc:.3f}\")\n"
   ]
  },
  {
   "cell_type": "code",
   "execution_count": 13,
   "id": "278f7840-3a7d-46a8-a857-4e48eb476c8d",
   "metadata": {},
   "outputs": [
    {
     "data": {
      "text/plain": [
       "'C:\\\\Users\\\\Rohith VS\\\\Untitled Folder'"
      ]
     },
     "execution_count": 13,
     "metadata": {},
     "output_type": "execute_result"
    }
   ],
   "source": [
    "import os\n",
    "os.getcwd()\n"
   ]
  },
  {
   "cell_type": "code",
   "execution_count": null,
   "id": "d92f6606-7261-4d68-a034-60bff4e0a853",
   "metadata": {},
   "outputs": [],
   "source": []
  }
 ],
 "metadata": {
  "kernelspec": {
   "display_name": "Python 3 (ipykernel)",
   "language": "python",
   "name": "python3"
  },
  "language_info": {
   "codemirror_mode": {
    "name": "ipython",
    "version": 3
   },
   "file_extension": ".py",
   "mimetype": "text/x-python",
   "name": "python",
   "nbconvert_exporter": "python",
   "pygments_lexer": "ipython3",
   "version": "3.12.7"
  }
 },
 "nbformat": 4,
 "nbformat_minor": 5
}
